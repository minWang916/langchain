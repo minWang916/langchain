{
 "cells": [
  {
   "cell_type": "code",
   "execution_count": 36,
   "id": "3f53fd40",
   "metadata": {
    "id": "3f53fd40"
   },
   "outputs": [],
   "source": [
    "import os\n",
    "from pinecone import Pinecone\n",
    "\n",
    "# initialize connection to pinecone (get API key at app.pinecone.io)\n",
    "api_key = os.environ.get('PINECONE_API_KEY') or 'f2c88f45-2d0c-4d8a-849d-21bfc78dc15d'\n",
    "\n",
    "# configure client\n",
    "pc = Pinecone(api_key=api_key)"
   ]
  },
  {
   "cell_type": "code",
   "execution_count": 2,
   "id": "ca83e5a2",
   "metadata": {
    "id": "ca83e5a2"
   },
   "outputs": [],
   "source": [
    "from pinecone import ServerlessSpec\n",
    "\n",
    "cloud = os.environ.get('PINECONE_CLOUD') or 'aws'\n",
    "region = os.environ.get('PINECONE_REGION') or 'us-east-1'\n",
    "\n",
    "spec = ServerlessSpec(cloud=cloud, region=region)"
   ]
  },
  {
   "cell_type": "code",
   "execution_count": 37,
   "id": "EA2EcZsCoWS3",
   "metadata": {
    "id": "EA2EcZsCoWS3",
    "tags": [
     "parameters"
    ]
   },
   "outputs": [],
   "source": [
    "# Giving our index a name\n",
    "index_name = \"hello-pinecone\""
   ]
  },
  {
   "cell_type": "code",
   "execution_count": 38,
   "id": "synthetic-essex",
   "metadata": {
    "execution": {
     "iopub.execute_input": "2021-04-16T15:08:49.974096Z",
     "iopub.status.busy": "2021-04-16T15:08:49.972856Z",
     "iopub.status.idle": "2021-04-16T15:08:50.392796Z",
     "shell.execute_reply": "2021-04-16T15:08:50.391552Z"
    },
    "id": "synthetic-essex",
    "papermill": {
     "duration": 0.446682,
     "end_time": "2021-04-16T15:08:50.393195",
     "exception": false,
     "start_time": "2021-04-16T15:08:49.946513",
     "status": "completed"
    },
    "tags": []
   },
   "outputs": [],
   "source": [
    "# Delete the index, if an index of the same name already exists\n",
    "if index_name in pc.list_indexes().names():\n",
    "    pc.delete_index(index_name)"
   ]
  },
  {
   "cell_type": "code",
   "execution_count": 39,
   "id": "4YwC8livCrn2",
   "metadata": {
    "execution": {
     "iopub.execute_input": "2021-04-16T15:08:50.497478Z",
     "iopub.status.busy": "2021-04-16T15:08:50.496767Z",
     "iopub.status.idle": "2021-04-16T15:09:04.224132Z",
     "shell.execute_reply": "2021-04-16T15:09:04.223529Z"
    },
    "id": "4YwC8livCrn2",
    "papermill": {
     "duration": 13.756687,
     "end_time": "2021-04-16T15:09:04.224466",
     "exception": false,
     "start_time": "2021-04-16T15:08:50.467779",
     "status": "completed"
    },
    "tags": []
   },
   "outputs": [],
   "source": [
    "import time\n",
    "\n",
    "dimensions = 3\n",
    "pc.create_index(\n",
    "    name=index_name,\n",
    "    dimension=dimensions,\n",
    "    metric=\"cosine\",\n",
    "    spec=spec\n",
    ")\n",
    "\n",
    "# wait for index to be ready before connecting\n",
    "while not pc.describe_index(index_name).status['ready']:\n",
    "    time.sleep(1)"
   ]
  },
  {
   "cell_type": "code",
   "execution_count": 40,
   "id": "toy-VhU4LO_O",
   "metadata": {
    "execution": {
     "iopub.execute_input": "2021-04-16T15:09:04.283700Z",
     "iopub.status.busy": "2021-04-16T15:09:04.282289Z",
     "iopub.status.idle": "2021-04-16T15:09:05.096982Z",
     "shell.execute_reply": "2021-04-16T15:09:05.096019Z"
    },
    "id": "toy-VhU4LO_O",
    "papermill": {
     "duration": 0.846255,
     "end_time": "2021-04-16T15:09:05.097384",
     "exception": false,
     "start_time": "2021-04-16T15:09:04.251129",
     "status": "completed"
    },
    "tags": []
   },
   "outputs": [],
   "source": [
    "index = pc.Index(index_name)"
   ]
  },
  {
   "cell_type": "code",
   "execution_count": 41,
   "id": "indirect-lafayette",
   "metadata": {
    "colab": {
     "base_uri": "https://localhost:8080/",
     "height": 125
    },
    "execution": {
     "iopub.execute_input": "2021-04-16T15:09:05.206498Z",
     "iopub.status.busy": "2021-04-16T15:09:05.205699Z",
     "iopub.status.idle": "2021-04-16T15:09:05.404333Z",
     "shell.execute_reply": "2021-04-16T15:09:05.403743Z"
    },
    "id": "indirect-lafayette",
    "outputId": "f87a1ffc-dc55-4394-a421-c4acae3dbcde",
    "papermill": {
     "duration": 0.227373,
     "end_time": "2021-04-16T15:09:05.404700",
     "exception": false,
     "start_time": "2021-04-16T15:09:05.177327",
     "status": "completed"
    },
    "tags": []
   },
   "outputs": [
    {
     "data": {
      "text/html": [
       "<div>\n",
       "<style scoped>\n",
       "    .dataframe tbody tr th:only-of-type {\n",
       "        vertical-align: middle;\n",
       "    }\n",
       "\n",
       "    .dataframe tbody tr th {\n",
       "        vertical-align: top;\n",
       "    }\n",
       "\n",
       "    .dataframe thead th {\n",
       "        text-align: right;\n",
       "    }\n",
       "</style>\n",
       "<table border=\"1\" class=\"dataframe\">\n",
       "  <thead>\n",
       "    <tr style=\"text-align: right;\">\n",
       "      <th></th>\n",
       "      <th>id</th>\n",
       "      <th>vector</th>\n",
       "    </tr>\n",
       "  </thead>\n",
       "  <tbody>\n",
       "    <tr>\n",
       "      <th>0</th>\n",
       "      <td>A</td>\n",
       "      <td>[1.0, 1.0, 1.0]</td>\n",
       "    </tr>\n",
       "    <tr>\n",
       "      <th>1</th>\n",
       "      <td>B</td>\n",
       "      <td>[1.0, 2.0, 3.0]</td>\n",
       "    </tr>\n",
       "  </tbody>\n",
       "</table>\n",
       "</div>"
      ],
      "text/plain": [
       "  id           vector\n",
       "0  A  [1.0, 1.0, 1.0]\n",
       "1  B  [1.0, 2.0, 3.0]"
      ]
     },
     "execution_count": 41,
     "metadata": {},
     "output_type": "execute_result"
    }
   ],
   "source": [
    "import pandas as pd\n",
    "\n",
    "df = pd.DataFrame(\n",
    "    data={\n",
    "        \"id\": [\"A\", \"B\"],\n",
    "        \"vector\": [[1., 1., 1.], [1., 2., 3.]]\n",
    "    })\n",
    "df"
   ]
  },
  {
   "cell_type": "code",
   "execution_count": 42,
   "id": "efficient-parliament",
   "metadata": {
    "colab": {
     "base_uri": "https://localhost:8080/"
    },
    "execution": {
     "iopub.execute_input": "2021-04-16T15:09:05.506668Z",
     "iopub.status.busy": "2021-04-16T15:09:05.505145Z",
     "iopub.status.idle": "2021-04-16T15:09:06.180038Z",
     "shell.execute_reply": "2021-04-16T15:09:06.179012Z"
    },
    "id": "efficient-parliament",
    "outputId": "69a9ba23-0e6b-4253-8338-cc5ad10b280c",
    "papermill": {
     "duration": 0.704503,
     "end_time": "2021-04-16T15:09:06.180549",
     "exception": false,
     "start_time": "2021-04-16T15:09:05.476046",
     "status": "completed"
    },
    "tags": []
   },
   "outputs": [
    {
     "data": {
      "text/plain": [
       "{'upserted_count': 2}"
      ]
     },
     "execution_count": 42,
     "metadata": {},
     "output_type": "execute_result"
    }
   ],
   "source": [
    "index.upsert(vectors=zip(df.id, df.vector))  # insert vectors"
   ]
  },
  {
   "cell_type": "code",
   "execution_count": 9,
   "id": "enclosed-performer",
   "metadata": {
    "colab": {
     "base_uri": "https://localhost:8080/"
    },
    "execution": {
     "iopub.execute_input": "2021-04-16T15:09:06.242684Z",
     "iopub.status.busy": "2021-04-16T15:09:06.241999Z",
     "iopub.status.idle": "2021-04-16T15:09:06.350759Z",
     "shell.execute_reply": "2021-04-16T15:09:06.351713Z"
    },
    "id": "enclosed-performer",
    "outputId": "0da73ed3-7a6c-44d9-9788-4b3a0fea99f8",
    "papermill": {
     "duration": 0.140473,
     "end_time": "2021-04-16T15:09:06.352169",
     "exception": false,
     "start_time": "2021-04-16T15:09:06.211696",
     "status": "completed"
    },
    "tags": []
   },
   "outputs": [
    {
     "data": {
      "text/plain": [
       "{'dimension': 3,\n",
       " 'index_fullness': 0.0,\n",
       " 'namespaces': {},\n",
       " 'total_vector_count': 0}"
      ]
     },
     "execution_count": 9,
     "metadata": {},
     "output_type": "execute_result"
    }
   ],
   "source": [
    "index.describe_index_stats()"
   ]
  },
  {
   "cell_type": "code",
   "execution_count": 43,
   "id": "leading-shape",
   "metadata": {
    "colab": {
     "base_uri": "https://localhost:8080/"
    },
    "execution": {
     "iopub.execute_input": "2021-04-16T15:09:06.422440Z",
     "iopub.status.busy": "2021-04-16T15:09:06.420935Z",
     "iopub.status.idle": "2021-04-16T15:09:08.564221Z",
     "shell.execute_reply": "2021-04-16T15:09:08.563202Z"
    },
    "id": "leading-shape",
    "outputId": "bc9b72a0-aaa0-4698-bb4d-bc4d78f87301",
    "papermill": {
     "duration": 2.177493,
     "end_time": "2021-04-16T15:09:08.564594",
     "exception": false,
     "start_time": "2021-04-16T15:09:06.387101",
     "status": "completed"
    },
    "tags": []
   },
   "outputs": [
    {
     "data": {
      "text/plain": [
       "{'matches': [{'id': 'A', 'score': 1.0, 'values': [1.0, 1.0, 1.0]},\n",
       "             {'id': 'B', 'score': 0.925820112, 'values': [1.0, 2.0, 3.0]}],\n",
       " 'namespace': '',\n",
       " 'usage': {'read_units': 6}}"
      ]
     },
     "execution_count": 43,
     "metadata": {},
     "output_type": "execute_result"
    }
   ],
   "source": [
    "index.query(\n",
    "    vector=[2., 2., 2.],\n",
    "    top_k=5,\n",
    "    include_values=True) # returns top_k matches"
   ]
  },
  {
   "cell_type": "code",
   "execution_count": null,
   "id": "indian-broadcast",
   "metadata": {
    "execution": {
     "iopub.execute_input": "2021-04-16T15:09:08.698129Z",
     "iopub.status.busy": "2021-04-16T15:09:08.697250Z",
     "iopub.status.idle": "2021-04-16T15:09:21.171092Z",
     "shell.execute_reply": "2021-04-16T15:09:21.170231Z"
    },
    "id": "indian-broadcast",
    "papermill": {
     "duration": 12.505772,
     "end_time": "2021-04-16T15:09:21.171527",
     "exception": false,
     "start_time": "2021-04-16T15:09:08.665755",
     "status": "completed"
    },
    "tags": []
   },
   "outputs": [],
   "source": [
    "pc.delete_index(index_name)"
   ]
  },
  {
   "cell_type": "code",
   "execution_count": 44,
   "id": "c95c90f0",
   "metadata": {},
   "outputs": [],
   "source": [
    "from PyPDF2 import PdfReader\n",
    "from dotenv import load_dotenv\n",
    "import fitz\n",
    "from langchain.text_splitter import RecursiveCharacterTextSplitter\n",
    "from langchain.embeddings.openai import OpenAIEmbeddings\n",
    "from langchain.vectorstores import FAISS\n",
    "load_dotenv()\n",
    "from langchain_pinecone import PineconeVectorStore\n",
    "from langchain.document_loaders.csv_loader import CSVLoader"
   ]
  },
  {
   "cell_type": "code",
   "execution_count": 45,
   "id": "10aa1505",
   "metadata": {},
   "outputs": [
    {
     "data": {
      "text/plain": [
       "True"
      ]
     },
     "execution_count": 45,
     "metadata": {},
     "output_type": "execute_result"
    }
   ],
   "source": [
    "load_dotenv()"
   ]
  },
  {
   "cell_type": "code",
   "execution_count": 46,
   "id": "e987d18e",
   "metadata": {},
   "outputs": [],
   "source": [
    "index_name = 'cv-vector-database-test'\n",
    "pc.create_index(\n",
    "    name=index_name,\n",
    "    dimension=1536,\n",
    "    metric=\"cosine\",\n",
    "    spec=spec\n",
    ")"
   ]
  },
  {
   "cell_type": "code",
   "execution_count": 47,
   "id": "b7d7199e",
   "metadata": {},
   "outputs": [],
   "source": [
    "vectorstore = PineconeVectorStore(index_name=index_name, embedding=OpenAIEmbeddings())"
   ]
  },
  {
   "cell_type": "code",
   "execution_count": 48,
   "id": "45502e9e",
   "metadata": {},
   "outputs": [
    {
     "data": {
      "text/plain": [
       "['27a9bf58-3755-494a-b6a6-2dbb1cca32c3']"
      ]
     },
     "execution_count": 48,
     "metadata": {},
     "output_type": "execute_result"
    }
   ],
   "source": [
    "vectorstore.add_texts([\"hello\"])"
   ]
  },
  {
   "cell_type": "code",
   "execution_count": 49,
   "id": "8cc948c0",
   "metadata": {},
   "outputs": [
    {
     "data": {
      "text/plain": [
       "['88a9e9de-18c7-4b17-9bf6-c953834feb19']"
      ]
     },
     "execution_count": 49,
     "metadata": {},
     "output_type": "execute_result"
    }
   ],
   "source": [
    "vectorstore.add_texts([\"bye\"])"
   ]
  },
  {
   "cell_type": "code",
   "execution_count": 50,
   "id": "21173db8",
   "metadata": {},
   "outputs": [
    {
     "data": {
      "text/plain": [
       "[Document(page_content='hello')]"
      ]
     },
     "execution_count": 50,
     "metadata": {},
     "output_type": "execute_result"
    }
   ],
   "source": [
    "vectorstore.similarity_search(\"hi\", k=1)"
   ]
  },
  {
   "cell_type": "code",
   "execution_count": 24,
   "id": "7a66f7c0",
   "metadata": {},
   "outputs": [],
   "source": [
    "pdf_document = fitz.open(\"1.pdf\")\n",
    "text = \"\"\n",
    "for page_number in range(len(pdf_document)):\n",
    "    page = pdf_document[page_number]\n",
    "    \n",
    "    # Extract text from the current page\n",
    "    page_text = page.get_text()\n",
    "    \n",
    "    # Append the extracted text to the overall text string\n",
    "    text += page_text\n",
    "text_splitter = RecursiveCharacterTextSplitter(\n",
    "    chunk_size=1000,\n",
    "    chunk_overlap=200,\n",
    "    length_function=len\n",
    ")\n",
    "chunks = text_splitter.split_text(text=text)\n",
    "embeddings = OpenAIEmbeddings()\n",
    "#VectorStore = FAISS.from_texts(chunks,embeddings)"
   ]
  },
  {
   "cell_type": "code",
   "execution_count": 52,
   "id": "d51cbd12",
   "metadata": {},
   "outputs": [],
   "source": [
    "docsearch = PineconeVectorStore.from_texts(chunks, embeddings, index_name=\"cv-db\")"
   ]
  },
  {
   "cell_type": "code",
   "execution_count": 53,
   "id": "52947f51",
   "metadata": {},
   "outputs": [],
   "source": [
    "query = \"What is the university of Do Minh Quang\"\n",
    "ans = docsearch.similarity_search(query, k=1)"
   ]
  },
  {
   "cell_type": "code",
   "execution_count": 54,
   "id": "04bfa90c",
   "metadata": {},
   "outputs": [
    {
     "data": {
      "text/plain": [
       "[Document(page_content='P E R S O N A L  P R O J E C T S\\nC O N T A C T\\nE D U C A T I O N\\nVietnamese German University\\nMajor: Information Technology\\n2021 - 2025\\nP R O G R A M M I N G\\nL A N G U A G U E S\\nEnglish: IELTS 8.0\\nMerit scholarship 100% tuition fee\\n2022, 2023\\nDAAD exchange semester scholarship\\nin Germany\\nDo Minh Quang\\nTel: (+84)-963-916-127\\nLinkedin:linkedin.com/in/quang-\\ndo-minh/\\nEmail: quangdm961@gmail.com\\nFB: facebook.com/do.quang.777\\nGithub: github.com/minWang916\\nGeneral purpose: C, C++, Java,\\nPython\\nWebdev: HTML, CSS, JS, Django,\\nSQL, PHP\\nColab tools: Github, Notion, Trello\\nDate Engineering tools: AWS,\\nPowerBI, Airflow, Docker\\nApplying to: Data Engineer Internship at Grab\\nGPA: 9.4/10 (first year)\\n           1.1 (second year)\\nFrankfurt University of Applied\\nScience - Exchange semester\\nSep 2023 - Mar 2024 \\nC E R T I F I C A T E\\nPython: Self-driving car\\nLink: https://github.com/minWang916/AI-self-driving-car-\\nsimulator\\nDescription: process camera images around the car to')]"
      ]
     },
     "execution_count": 54,
     "metadata": {},
     "output_type": "execute_result"
    }
   ],
   "source": [
    "ans"
   ]
  },
  {
   "cell_type": "code",
   "execution_count": null,
   "id": "168e1edc",
   "metadata": {},
   "outputs": [],
   "source": []
  }
 ],
 "metadata": {
  "colab": {
   "provenance": []
  },
  "kernelspec": {
   "display_name": "Python 3 (ipykernel)",
   "language": "python",
   "name": "python3"
  },
  "language_info": {
   "codemirror_mode": {
    "name": "ipython",
    "version": 3
   },
   "file_extension": ".py",
   "mimetype": "text/x-python",
   "name": "python",
   "nbconvert_exporter": "python",
   "pygments_lexer": "ipython3",
   "version": "3.10.1"
  },
  "papermill": {
   "default_parameters": {},
   "duration": 52.201461,
   "end_time": "2021-04-16T15:09:21.730976",
   "environment_variables": {},
   "exception": null,
   "input_path": "/notebooks/quick_tour/hello_pinecone.ipynb",
   "output_path": "/notebooks/tmp/quick_tour/hello_pinecone.ipynb",
   "parameters": {},
   "start_time": "2021-04-16T15:08:29.529515",
   "version": "2.3.3"
  }
 },
 "nbformat": 4,
 "nbformat_minor": 5
}
