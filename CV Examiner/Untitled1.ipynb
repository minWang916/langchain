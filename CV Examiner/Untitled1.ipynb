{
 "cells": [
  {
   "cell_type": "code",
   "execution_count": 1,
   "id": "ed4a87ed",
   "metadata": {},
   "outputs": [
    {
     "name": "stdout",
     "output_type": "stream",
     "text": [
      "CSV file 'resumes_scores.csv' created successfully.\n"
     ]
    }
   ],
   "source": [
    "import os\n",
    "import random\n",
    "import PyPDF2\n",
    "import pandas as pd\n",
    "\n",
    "# Function to read text from a PDF file\n",
    "def extract_text_from_pdf(pdf_file):\n",
    "    text = \"\"\n",
    "    with open(pdf_file, \"rb\") as file:\n",
    "        pdf_reader = PyPDF2.PdfReader(file)\n",
    "        for page_num in range(len(pdf_reader.pages)):\n",
    "            text += pdf_reader.pages[page_num].extract_text()\n",
    "    return text\n",
    "\n",
    "# Get list of PDF files in the current directory\n",
    "pdf_files = [file for file in os.listdir() if file.endswith(\".pdf\")]\n",
    "\n",
    "# Initialize lists for storing resume content and scores\n",
    "resume_content = []\n",
    "scores = []\n",
    "\n",
    "# Generate random scores and extract text from PDFs\n",
    "for pdf_file in pdf_files:\n",
    "    resume_content.append(extract_text_from_pdf(pdf_file))\n",
    "    scores.append(random.randint(50, 100))\n",
    "\n",
    "# Create DataFrame\n",
    "df = pd.DataFrame({\n",
    "    \"Resume\": resume_content,\n",
    "    \"Score\": scores\n",
    "})\n",
    "\n",
    "# Save DataFrame to CSV file\n",
    "df.to_csv(\"resumes_scores.csv\", index=False)\n",
    "\n",
    "print(\"CSV file 'resumes_scores.csv' created successfully.\")\n"
   ]
  },
  {
   "cell_type": "code",
   "execution_count": 2,
   "id": "0031c4ec",
   "metadata": {},
   "outputs": [
    {
     "name": "stdout",
     "output_type": "stream",
     "text": [
      "                                              Resume  Score\n",
      "0  PERSONAL PROJECTS\\nCONTACT\\nEDUCATION\\nVietnam...     76\n",
      "1   \\nHuynh Le An Phu  \\nComputer Science Bachelo...     70\n",
      "2  PHAM TAN ANH VU\\n(+84) 934 627 450\\nHo Chi Min...     67\n"
     ]
    }
   ],
   "source": [
    "import pandas as pd\n",
    "\n",
    "# Read the CSV file into a DataFrame\n",
    "df = pd.read_csv(\"resumes_scores.csv\")\n",
    "\n",
    "# Display the DataFrame\n",
    "print(df)\n"
   ]
  },
  {
   "cell_type": "code",
   "execution_count": null,
   "id": "3821f176",
   "metadata": {},
   "outputs": [],
   "source": []
  }
 ],
 "metadata": {
  "kernelspec": {
   "display_name": "Python 3 (ipykernel)",
   "language": "python",
   "name": "python3"
  },
  "language_info": {
   "codemirror_mode": {
    "name": "ipython",
    "version": 3
   },
   "file_extension": ".py",
   "mimetype": "text/x-python",
   "name": "python",
   "nbconvert_exporter": "python",
   "pygments_lexer": "ipython3",
   "version": "3.10.1"
  }
 },
 "nbformat": 4,
 "nbformat_minor": 5
}
